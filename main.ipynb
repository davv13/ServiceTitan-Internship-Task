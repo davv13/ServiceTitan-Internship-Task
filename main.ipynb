{
 "cells": [
  {
   "cell_type": "markdown",
   "metadata": {},
   "source": [
    "# **Invoice Data Analysis**\n",
    "### **Author: Davit Davtyan** \n",
    "#### **Task Description:** \n",
    "\n",
    "There is a binary(pickled) file invoices_new.pkl, which contains information of invoices. You may assume that the information has been extracted by scanning paper invoices using OCR. Each invoice has its own properties (id, name, creation date etc.) and a list of invoice items. Like invoice, invoice items also have their own properties.\n",
    "Tere is also a file containing a list of IDs of expired invoices - expired_invoices.txt\n",
    "\n",
    "Write a `DataExtractor class` that has the functionality to load the dataset and transform the unstructured data into a flat data with the following columns:\n",
    "- invoice_id: int\n",
    "- created_on: datetime64[ns]\n",
    "- invoiceitem_id: int\n",
    "- invoiceitem_name: str\n",
    "- type: str (use this conversion table: {0: 'Material', 1: 'Equipment', 2: 'Service', 3: 'Other'})\n",
    "- unit_price: int\n",
    "- total_price: int (unit_price*quantity)\n",
    "- percentage_in_invoice: float (unit_price*quantity / invoice_total)\n",
    "- is_expired: bool (whether invoice_id is contained expired_invoices.txt or not)\n",
    "\n",
    "Make sure that the columns in the resulting dataframe are of the correct type, as described above. The final dataframe must be sorted by invoice_id and invoiceitem_id in the ascending order."
   ]
  },
  {
   "cell_type": "markdown",
   "metadata": {},
   "source": [
    "#### **Import Necessary Libraries**"
   ]
  },
  {
   "cell_type": "code",
   "execution_count": 1,
   "metadata": {},
   "outputs": [],
   "source": [
    "import os\n",
    "import pandas as pd\n",
    "import pickle\n",
    "import re\n",
    "from num2words import num2words"
   ]
  },
  {
   "cell_type": "markdown",
   "metadata": {},
   "source": [
    "#### **Load Data**"
   ]
  },
  {
   "cell_type": "code",
   "execution_count": 2,
   "metadata": {},
   "outputs": [
    {
     "name": "stdout",
     "output_type": "stream",
     "text": [
      "Invoices Data:\n",
      "Number of invoices: 100\n",
      "Sample invoice data:\n"
     ]
    },
    {
     "data": {
      "text/plain": [
       "{'id': '365371O',\n",
       " 'created_on': '2019-05-27',\n",
       " 'items': [{'item': {'id': 142446,\n",
       "    'name': 'ii_142446',\n",
       "    'unit_price': 182,\n",
       "    'type': 1},\n",
       "   'quantity': 6},\n",
       "  {'item': {'id': 154019, 'name': 'ii_154019', 'unit_price': 176, 'type': 1},\n",
       "   'quantity': 1}]}"
      ]
     },
     "execution_count": 2,
     "metadata": {},
     "output_type": "execute_result"
    }
   ],
   "source": [
    "with open('data/invoices_new.pkl', 'rb') as f:\n",
    "    invoices_data = pickle.load(f)\n",
    "\n",
    "print(\"Invoices Data:\")\n",
    "print(f\"Number of invoices: {len(invoices_data)}\")\n",
    "print(\"Sample invoice data:\")\n",
    "invoices_data[0]"
   ]
  },
  {
   "cell_type": "code",
   "execution_count": 3,
   "metadata": {},
   "outputs": [
    {
     "name": "stdout",
     "output_type": "stream",
     "text": [
      "\n",
      "Number of expired invoices: 50\n",
      "Expired Invoice IDs:\n",
      "[305869, 377307, 391273, 385290, 331902, 397723, 343695, 340601, 347510, 325156, 379387, 348894, 322229, 326649, 377960, 325063, 369378, 319405, 383681, 367288, 356552, 394428, 381476, 381457, 349879, 343254, 366751, 330931, 363263, 326452, 379687, 356532, 383235, 313012, 368913, 352442, 315960, 351096, 331193, 392657, 352391, 389528, 338547, 379961, 337140, 323231, 371205, 378746, 307175, 340299]\n"
     ]
    }
   ],
   "source": [
    "with open('data/expired_invoices.txt', 'r') as f:\n",
    "    expired_invoice_ids = f.read().split(', ')\n",
    "\n",
    "expired_invoice_ids = list(map(int, expired_invoice_ids))\n",
    "\n",
    "print(f\"\\nNumber of expired invoices: {len(expired_invoice_ids)}\")\n",
    "print(\"Expired Invoice IDs:\")\n",
    "print(expired_invoice_ids)"
   ]
  },
  {
   "cell_type": "markdown",
   "metadata": {},
   "source": [
    "#### **The Creation of DataExtractor Class**"
   ]
  },
  {
   "cell_type": "code",
   "execution_count": 4,
   "metadata": {},
   "outputs": [],
   "source": [
    "class DataExtractor:\n",
    "    def __init__(self, invoices_file, expired_invoices_file):\n",
    "        self.invoices_file = invoices_file\n",
    "        self.expired_invoices_file = expired_invoices_file\n",
    "        self.invoices_data = self.load_invoices_data()\n",
    "        self.expired_invoice_ids = self.load_expired_invoices()\n",
    "        self.type_conversion = {'0': 'Material', 'O': 'Material', 0: 'Material', 1: 'Equipment', 2: 'Service', 3: 'Other'}\n",
    "        self.quantity_map = self.create_quantity_map()\n",
    "\n",
    "    def load_invoices_data(self):\n",
    "        with open(self.invoices_file, 'rb') as f:\n",
    "            return pickle.load(f)\n",
    "\n",
    "    def load_expired_invoices(self):\n",
    "        with open(self.expired_invoices_file, 'r') as f:\n",
    "            return list(map(int, f.read().split(', ')))\n",
    "\n",
    "    def create_quantity_map(self):\n",
    "        quantity_map = {}\n",
    "        for i in range(1, 101):\n",
    "            quantity_map[num2words(i)] = i\n",
    "        return quantity_map\n",
    "\n",
    "    def parse_quantity(self, quantity):\n",
    "        if isinstance(quantity, int):\n",
    "            return quantity\n",
    "        quantity = quantity.lower()\n",
    "        return self.quantity_map.get(quantity, 1)\n",
    "\n",
    "    def transform(self):\n",
    "        flat_data = []\n",
    "\n",
    "        for invoice in self.invoices_data:\n",
    "            invoice_id = invoice['id']\n",
    "            if isinstance(invoice_id, str):\n",
    "                invoice_id = int(invoice_id[:-1])  # Extract integer part if invoice_id is a string\n",
    "            created_on = pd.to_datetime(invoice['created_on'], errors='coerce')\n",
    "            is_expired = invoice_id in self.expired_invoice_ids\n",
    "\n",
    "            if 'items' not in invoice:\n",
    "                continue\n",
    "\n",
    "            invoice_total = sum(self.parse_quantity(item['quantity']) * item['item']['unit_price'] for item in invoice['items'])\n",
    "\n",
    "            for item in invoice['items']:\n",
    "                invoiceitem_id = item['item']['id']\n",
    "                invoiceitem_name = item['item']['name']\n",
    "                unit_price = item['item']['unit_price']\n",
    "                quantity = self.parse_quantity(item['quantity'])\n",
    "                total_price = unit_price * quantity\n",
    "                percentage_in_invoice = total_price / invoice_total\n",
    "                item_type = self.type_conversion.get(item['item']['type'], 'Other')\n",
    "\n",
    "                flat_data.append({\n",
    "                    'invoice_id': invoice_id,\n",
    "                    'created_on': created_on,\n",
    "                    'invoiceitem_id': invoiceitem_id,\n",
    "                    'invoiceitem_name': invoiceitem_name,\n",
    "                    'type': item_type,\n",
    "                    'unit_price': unit_price,\n",
    "                    'total_price': total_price,\n",
    "                    'percentage_in_invoice': percentage_in_invoice,\n",
    "                    'is_expired': is_expired\n",
    "                })\n",
    "\n",
    "        df = pd.DataFrame(flat_data)\n",
    "\n",
    "        # Convert columns to the correct types\n",
    "        df['invoice_id'] = df['invoice_id'].astype(int)\n",
    "        df['created_on'] = pd.to_datetime(df['created_on'], errors='coerce')\n",
    "        df['invoiceitem_id'] = df['invoiceitem_id'].astype(int)\n",
    "        df['invoiceitem_name'] = df['invoiceitem_name'].astype(str)\n",
    "        df['type'] = df['type'].astype(str)\n",
    "        df['unit_price'] = df['unit_price'].astype(int)\n",
    "        df['total_price'] = df['total_price'].astype(int)\n",
    "        df['percentage_in_invoice'] = df['percentage_in_invoice'].astype(float)\n",
    "        df['is_expired'] = df['is_expired'].astype(bool)\n",
    "\n",
    "        # Drop rows with invalid dates\n",
    "        df = df.dropna(subset=['created_on'])\n",
    "\n",
    "        # Sort by invoice_id and invoiceitem_id in ascending order\n",
    "        df = df.sort_values(by=['invoice_id', 'invoiceitem_id']).reset_index(drop=True)\n",
    "\n",
    "        return df\n",
    "    \n",
    "    def save_to_csv(self, df, output_file):\n",
    "        df.to_csv(output_file, index=False)"
   ]
  },
  {
   "cell_type": "markdown",
   "metadata": {},
   "source": [
    "### **Usage**"
   ]
  },
  {
   "cell_type": "code",
   "execution_count": 5,
   "metadata": {},
   "outputs": [
    {
     "data": {
      "text/html": [
       "<div>\n",
       "<style scoped>\n",
       "    .dataframe tbody tr th:only-of-type {\n",
       "        vertical-align: middle;\n",
       "    }\n",
       "\n",
       "    .dataframe tbody tr th {\n",
       "        vertical-align: top;\n",
       "    }\n",
       "\n",
       "    .dataframe thead th {\n",
       "        text-align: right;\n",
       "    }\n",
       "</style>\n",
       "<table border=\"1\" class=\"dataframe\">\n",
       "  <thead>\n",
       "    <tr style=\"text-align: right;\">\n",
       "      <th></th>\n",
       "      <th>invoice_id</th>\n",
       "      <th>created_on</th>\n",
       "      <th>invoiceitem_id</th>\n",
       "      <th>invoiceitem_name</th>\n",
       "      <th>type</th>\n",
       "      <th>unit_price</th>\n",
       "      <th>total_price</th>\n",
       "      <th>percentage_in_invoice</th>\n",
       "      <th>is_expired</th>\n",
       "    </tr>\n",
       "  </thead>\n",
       "  <tbody>\n",
       "    <tr>\n",
       "      <th>0</th>\n",
       "      <td>301695</td>\n",
       "      <td>2019-04-26</td>\n",
       "      <td>103215</td>\n",
       "      <td>ii_103215</td>\n",
       "      <td>Other</td>\n",
       "      <td>135</td>\n",
       "      <td>945</td>\n",
       "      <td>0.374851</td>\n",
       "      <td>False</td>\n",
       "    </tr>\n",
       "    <tr>\n",
       "      <th>1</th>\n",
       "      <td>301695</td>\n",
       "      <td>2019-04-26</td>\n",
       "      <td>166227</td>\n",
       "      <td>ii_166227</td>\n",
       "      <td>Equipment</td>\n",
       "      <td>118</td>\n",
       "      <td>708</td>\n",
       "      <td>0.280841</td>\n",
       "      <td>False</td>\n",
       "    </tr>\n",
       "    <tr>\n",
       "      <th>2</th>\n",
       "      <td>301695</td>\n",
       "      <td>2019-04-26</td>\n",
       "      <td>171394</td>\n",
       "      <td>ii_171394</td>\n",
       "      <td>Other</td>\n",
       "      <td>128</td>\n",
       "      <td>128</td>\n",
       "      <td>0.050774</td>\n",
       "      <td>False</td>\n",
       "    </tr>\n",
       "    <tr>\n",
       "      <th>3</th>\n",
       "      <td>301695</td>\n",
       "      <td>2019-04-26</td>\n",
       "      <td>195625</td>\n",
       "      <td>ii_195625</td>\n",
       "      <td>Other</td>\n",
       "      <td>148</td>\n",
       "      <td>740</td>\n",
       "      <td>0.293534</td>\n",
       "      <td>False</td>\n",
       "    </tr>\n",
       "    <tr>\n",
       "      <th>4</th>\n",
       "      <td>304245</td>\n",
       "      <td>2019-03-17</td>\n",
       "      <td>121446</td>\n",
       "      <td>ii_121446</td>\n",
       "      <td>Service</td>\n",
       "      <td>158</td>\n",
       "      <td>632</td>\n",
       "      <td>0.128429</td>\n",
       "      <td>False</td>\n",
       "    </tr>\n",
       "  </tbody>\n",
       "</table>\n",
       "</div>"
      ],
      "text/plain": [
       "   invoice_id created_on  invoiceitem_id invoiceitem_name       type  \\\n",
       "0      301695 2019-04-26          103215        ii_103215      Other   \n",
       "1      301695 2019-04-26          166227        ii_166227  Equipment   \n",
       "2      301695 2019-04-26          171394        ii_171394      Other   \n",
       "3      301695 2019-04-26          195625        ii_195625      Other   \n",
       "4      304245 2019-03-17          121446        ii_121446    Service   \n",
       "\n",
       "   unit_price  total_price  percentage_in_invoice  is_expired  \n",
       "0         135          945               0.374851       False  \n",
       "1         118          708               0.280841       False  \n",
       "2         128          128               0.050774       False  \n",
       "3         148          740               0.293534       False  \n",
       "4         158          632               0.128429       False  "
      ]
     },
     "execution_count": 5,
     "metadata": {},
     "output_type": "execute_result"
    }
   ],
   "source": [
    "extractor = DataExtractor('data/invoices_new.pkl', 'data/expired_invoices.txt')\n",
    "flat_df = extractor.transform()\n",
    "extractor.save_to_csv(flat_df, 'transformed_invoices.csv')\n",
    "\n",
    "flat_df.head()"
   ]
  },
  {
   "cell_type": "code",
   "execution_count": 6,
   "metadata": {},
   "outputs": [
    {
     "name": "stdout",
     "output_type": "stream",
     "text": [
      "<class 'pandas.core.frame.DataFrame'>\n",
      "RangeIndex: 486 entries, 0 to 485\n",
      "Data columns (total 9 columns):\n",
      " #   Column                 Non-Null Count  Dtype         \n",
      "---  ------                 --------------  -----         \n",
      " 0   invoice_id             486 non-null    int32         \n",
      " 1   created_on             486 non-null    datetime64[ns]\n",
      " 2   invoiceitem_id         486 non-null    int32         \n",
      " 3   invoiceitem_name       486 non-null    object        \n",
      " 4   type                   486 non-null    object        \n",
      " 5   unit_price             486 non-null    int32         \n",
      " 6   total_price            486 non-null    int32         \n",
      " 7   percentage_in_invoice  486 non-null    float64       \n",
      " 8   is_expired             486 non-null    bool          \n",
      "dtypes: bool(1), datetime64[ns](1), float64(1), int32(4), object(2)\n",
      "memory usage: 23.4+ KB\n"
     ]
    }
   ],
   "source": [
    "flat_df.info()"
   ]
  },
  {
   "cell_type": "markdown",
   "metadata": {},
   "source": [
    "#### **END**"
   ]
  }
 ],
 "metadata": {
  "kernelspec": {
   "display_name": ".venv",
   "language": "python",
   "name": "python3"
  },
  "language_info": {
   "codemirror_mode": {
    "name": "ipython",
    "version": 3
   },
   "file_extension": ".py",
   "mimetype": "text/x-python",
   "name": "python",
   "nbconvert_exporter": "python",
   "pygments_lexer": "ipython3",
   "version": "3.11.8"
  }
 },
 "nbformat": 4,
 "nbformat_minor": 2
}
